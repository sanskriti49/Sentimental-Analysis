{
  "nbformat": 4,
  "nbformat_minor": 0,
  "metadata": {
    "colab": {
      "provenance": [],
      "include_colab_link": true
    },
    "kernelspec": {
      "name": "python3",
      "display_name": "Python 3"
    },
    "language_info": {
      "name": "python"
    }
  },
  "cells": [
    {
      "cell_type": "markdown",
      "metadata": {
        "id": "view-in-github",
        "colab_type": "text"
      },
      "source": [
        "<a href=\"https://colab.research.google.com/github/sanskriti49/Sentimental-Analysis/blob/main/Sentiment_Predictor.ipynb\" target=\"_parent\"><img src=\"https://colab.research.google.com/assets/colab-badge.svg\" alt=\"Open In Colab\"/></a>"
      ]
    },
    {
      "cell_type": "markdown",
      "metadata": {
        "id": "mxW7yuHWHx1g"
      },
      "source": [
        "###Importing libraries"
      ]
    },
    {
      "cell_type": "code",
      "metadata": {
        "id": "75gBF0VQLkwq"
      },
      "source": [
        "import pandas as pd\n",
        "import numpy as np\n",
        "from sklearn.metrics import classification_report,confusion_matrix,accuracy_score\n",
        "!pip install nltk\n",
        "from nltk.corpus import stopwords\n",
        "from nltk.stem.porter import PorterStemmer\n",
        "import re\n",
        "import nltk\n",
        "\n",
        "nltk.download('stopwords')"
      ],
      "execution_count": null,
      "outputs": []
    },
    {
      "cell_type": "markdown",
      "metadata": {
        "id": "wvaGTuj8H7x7"
      },
      "source": [
        "###Importing dataset"
      ]
    },
    {
      "cell_type": "code",
      "metadata": {
        "id": "y_R4RGLWLnGz"
      },
      "source": [
        "url = \"https://raw.githubusercontent.com/sanskriti49/Sentimental-Analysis/refs/heads/main/Restaurant%20reviews.csv\"\n",
        "df = pd.read_csv(url, encoding=\"ISO-8859-1\")\n",
        "df = df.drop(columns=[\"Restaurant\",\"Reviewer\",\"Metadata\",\"Time\",\"Pictures\"])"
      ],
      "execution_count": null,
      "outputs": []
    },
    {
      "cell_type": "markdown",
      "metadata": {
        "id": "uoeOTsSaIeVz"
      },
      "source": [
        "\n",
        "\n",
        "```\n",
        "# This is formatted as code\n",
        "```\n",
        "\n",
        "###Data cleaning"
      ]
    },
    {
      "cell_type": "code",
      "metadata": {
        "id": "oWj2_42IL5r9"
      },
      "source": [
        "y = df[\"Rating\"]\n",
        "X = df.drop(columns=[\"Rating\"])\n",
        "y = y.replace({'Like':3})\n",
        "y = y.fillna(y.median())\n",
        "y = pd.to_numeric(y)\n",
        "\n",
        "y = y.astype(object)\n",
        "for i in range(0,len(y)):\n",
        "    y.iloc[i] = round(y.iloc[i],0)\n",
        "\n",
        "for i in range(0,len(y)):\n",
        "    if (y[i]>=3):\n",
        "        y[i] = \"Positive\"\n",
        "    else:\n",
        "        y[i] = \"Negative\""
      ],
      "execution_count": null,
      "outputs": []
    },
    {
      "cell_type": "code",
      "metadata": {
        "id": "Qm9M5Rl5L8SO"
      },
      "source": [
        "#Stemming\n",
        "ps = PorterStemmer()\n",
        "corpus = []\n",
        "\n",
        "for i in range(0, len(X)):\n",
        "    review = re.sub('[^a-zA-Z]',' ', str(X['Review'][i]))\n",
        "    review = review.lower()\n",
        "    review = review.split()\n",
        "\n",
        "    review = [ps.stem(word) for word in review if not word in stopwords.words('english')]\n",
        "    review = ' '.join(review)\n",
        "    corpus.append(review)"
      ],
      "execution_count": null,
      "outputs": []
    },
    {
      "cell_type": "markdown",
      "metadata": {
        "id": "ckl4L08VIuSu"
      },
      "source": [
        "###Data transformation"
      ]
    },
    {
      "cell_type": "code",
      "metadata": {
        "id": "oLSZj9tyNkvh"
      },
      "source": [
        "# Creating Matrix of CountVectorizer\n",
        "from sklearn.feature_extraction.text import CountVectorizer\n",
        "cv = CountVectorizer(max_features=9000)\n",
        "X = cv.fit_transform(corpus).toarray()\n"
      ],
      "execution_count": null,
      "outputs": []
    },
    {
      "cell_type": "markdown",
      "metadata": {
        "id": "IUTUUa2WLwQF"
      },
      "source": [
        "###Train-Test Split"
      ]
    },
    {
      "cell_type": "code",
      "metadata": {
        "id": "HIiFYJBGNky6"
      },
      "source": [
        "from sklearn.model_selection import train_test_split\n",
        "X_train, X_test, y_train, y_test = train_test_split(X, y, test_size=0.25, random_state=0)"
      ],
      "execution_count": null,
      "outputs": []
    },
    {
      "cell_type": "code",
      "metadata": {
        "id": "xBuXLj9fOiLr"
      },
      "source": [
        "# Applying MultinomialNB\n",
        "from sklearn.naive_bayes import MultinomialNB\n",
        "classifier = MultinomialNB().fit(X_train, y_train)\n"
      ],
      "execution_count": null,
      "outputs": []
    },
    {
      "cell_type": "markdown",
      "source": [
        "# Making Predictions and creating confusion matrix"
      ],
      "metadata": {
        "id": "9MZyMkXDh0rk"
      }
    },
    {
      "cell_type": "code",
      "metadata": {
        "id": "ZNYiLBT_Pmtg"
      },
      "source": [
        "y_pred = classifier.predict(X_test)\n",
        "\n",
        "# creating confusion matrix\n",
        "from sklearn.metrics import confusion_matrix\n",
        "confusion_m = confusion_matrix(y_test, y_pred)\n",
        "print(confusion_m)"
      ],
      "execution_count": null,
      "outputs": []
    },
    {
      "cell_type": "markdown",
      "source": [
        "#Getting the Accuracy"
      ],
      "metadata": {
        "id": "JVzZMduriIMr"
      }
    },
    {
      "cell_type": "code",
      "metadata": {
        "id": "mk32hmDzPuoD"
      },
      "source": [
        "from sklearn.metrics import accuracy_score\n",
        "accuracy = accuracy_score(y_test, y_pred)\n",
        "print(accuracy)"
      ],
      "execution_count": null,
      "outputs": []
    },
    {
      "cell_type": "markdown",
      "source": [
        "# Dumping Models"
      ],
      "metadata": {
        "id": "82cA7alNiOM6"
      }
    },
    {
      "cell_type": "code",
      "source": [
        "import pickle\n",
        "pickle.dump(classifier,open('model.pkl','wb'))\n",
        "pickle.dump(cv,open('cv-model.pkl','wb'))\n",
        "\n",
        "# Create a DataFrame with cleaned reviews and their corresponding sentiments\n",
        "final_df = pd.DataFrame({'Review': df['Review'], 'Sentiment': y})\n",
        "\n",
        "# Display the first few rows of the new DataFrame\n",
        "print(final_df.head())"
      ],
      "metadata": {
        "id": "P8J6s0zRiMG2"
      },
      "execution_count": null,
      "outputs": []
    }
  ]
}