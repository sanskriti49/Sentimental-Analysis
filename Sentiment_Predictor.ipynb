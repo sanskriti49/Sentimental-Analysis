{
  "nbformat": 4,
  "nbformat_minor": 0,
  "metadata": {
    "colab": {
      "provenance": [],
      "include_colab_link": true
    },
    "kernelspec": {
      "name": "python3",
      "display_name": "Python 3"
    },
    "language_info": {
      "name": "python"
    }
  },
  "cells": [
    {
      "cell_type": "markdown",
      "metadata": {
        "id": "view-in-github",
        "colab_type": "text"
      },
      "source": [
        "<a href=\"https://colab.research.google.com/github/sanskriti49/Sentimental-Analysis/blob/main/Sentiment_Predictor.ipynb\" target=\"_parent\"><img src=\"https://colab.research.google.com/assets/colab-badge.svg\" alt=\"Open In Colab\"/></a>"
      ]
    },
    {
      "cell_type": "markdown",
      "metadata": {
        "id": "mxW7yuHWHx1g"
      },
      "source": [
        "###Importing libraries"
      ]
    },
    {
      "cell_type": "code",
      "metadata": {
        "id": "75gBF0VQLkwq",
        "colab": {
          "base_uri": "https://localhost:8080/"
        },
        "outputId": "e7eba1ea-d935-4175-9dd4-b1001494e144"
      },
      "source": [
        "# !git clone https://github.com/sanskriti49/Sentimental-Analysis\n",
        "import pandas as pd\n",
        "import numpy as np\n",
        "from sklearn.metrics import classification_report,confusion_matrix,accuracy_score\n",
        "!pip install nltk\n",
        "from nltk.corpus import stopwords\n",
        "from nltk.stem.porter import PorterStemmer\n",
        "import re\n",
        "import nltk\n",
        "\n",
        "# downloading stopwords resource\n",
        "nltk.download('stopwords')"
      ],
      "execution_count": 1,
      "outputs": [
        {
          "output_type": "stream",
          "name": "stdout",
          "text": [
            "Requirement already satisfied: nltk in /usr/local/lib/python3.10/dist-packages (3.9.1)\n",
            "Requirement already satisfied: click in /usr/local/lib/python3.10/dist-packages (from nltk) (8.1.7)\n",
            "Requirement already satisfied: joblib in /usr/local/lib/python3.10/dist-packages (from nltk) (1.4.2)\n",
            "Requirement already satisfied: regex>=2021.8.3 in /usr/local/lib/python3.10/dist-packages (from nltk) (2024.9.11)\n",
            "Requirement already satisfied: tqdm in /usr/local/lib/python3.10/dist-packages (from nltk) (4.66.6)\n"
          ]
        },
        {
          "output_type": "stream",
          "name": "stderr",
          "text": [
            "[nltk_data] Downloading package stopwords to /root/nltk_data...\n",
            "[nltk_data]   Unzipping corpora/stopwords.zip.\n"
          ]
        },
        {
          "output_type": "execute_result",
          "data": {
            "text/plain": [
              "True"
            ]
          },
          "metadata": {},
          "execution_count": 1
        }
      ]
    },
    {
      "cell_type": "markdown",
      "metadata": {
        "id": "wvaGTuj8H7x7"
      },
      "source": [
        "###Importing dataset"
      ]
    },
    {
      "cell_type": "code",
      "metadata": {
        "id": "y_R4RGLWLnGz"
      },
      "source": [
        "url = \"https://raw.githubusercontent.com/sanskriti49/Sentimental-Analysis/refs/heads/main/Restaurant%20reviews.csv\"\n",
        "df = pd.read_csv(url, encoding=\"ISO-8859-1\")\n",
        "df = df.drop(columns=[\"Restaurant\",\"Reviewer\",\"Metadata\",\"Time\",\"Pictures\"])"
      ],
      "execution_count": 2,
      "outputs": []
    },
    {
      "cell_type": "markdown",
      "metadata": {
        "id": "uoeOTsSaIeVz"
      },
      "source": [
        "\n",
        "\n",
        "```\n",
        "# This is formatted as code\n",
        "```\n",
        "\n",
        "###Data cleaning"
      ]
    },
    {
      "cell_type": "code",
      "metadata": {
        "id": "oWj2_42IL5r9"
      },
      "source": [
        "y = df[\"Rating\"]\n",
        "X = df.drop(columns=[\"Rating\"])\n",
        "y = y.replace({'Like':3})\n",
        "y = y.fillna(y.median())\n",
        "y = pd.to_numeric(y)\n",
        "\n",
        "# Convert `y` to string-compatible dtype before assigning \"Positive\"/\"Negative\"\n",
        "y = y.astype(object)\n",
        "for i in range(0,len(y)):\n",
        "    y.iloc[i] = round(y.iloc[i],0)\n",
        "\n",
        "for i in range(0,len(y)):\n",
        "    if (y[i]>=3):\n",
        "        y[i] = \"Positive\"\n",
        "    else:\n",
        "        y[i] = \"Negative\""
      ],
      "execution_count": 3,
      "outputs": []
    },
    {
      "cell_type": "code",
      "metadata": {
        "id": "Qm9M5Rl5L8SO"
      },
      "source": [
        "# Applying Stemming with excluding StopWords\n",
        "ps = PorterStemmer()\n",
        "corpus = []\n",
        "\n",
        "for i in range(0, len(X)):\n",
        "    review = re.sub('[^a-zA-Z]',' ', str(X['Review'][i]))\n",
        "    review = review.lower()\n",
        "    review = review.split()\n",
        "\n",
        "    review = [ps.stem(word) for word in review if not word in stopwords.words('english')]\n",
        "    review = ' '.join(review)\n",
        "    corpus.append(review)"
      ],
      "execution_count": 4,
      "outputs": []
    },
    {
      "cell_type": "markdown",
      "metadata": {
        "id": "ckl4L08VIuSu"
      },
      "source": [
        "###Data transformation"
      ]
    },
    {
      "cell_type": "code",
      "metadata": {
        "id": "oLSZj9tyNkvh"
      },
      "source": [
        "# Creating Matrix of CountVectorizer\n",
        "from sklearn.feature_extraction.text import CountVectorizer\n",
        "cv = CountVectorizer(max_features=9000)\n",
        "X = cv.fit_transform(corpus).toarray()\n"
      ],
      "execution_count": 5,
      "outputs": []
    },
    {
      "cell_type": "markdown",
      "metadata": {
        "id": "IUTUUa2WLwQF"
      },
      "source": [
        "###Train-Test Split"
      ]
    },
    {
      "cell_type": "code",
      "metadata": {
        "id": "HIiFYJBGNky6"
      },
      "source": [
        "from sklearn.model_selection import train_test_split\n",
        "X_train, X_test, y_train, y_test = train_test_split(X, y, test_size=0.25, random_state=0)"
      ],
      "execution_count": 6,
      "outputs": []
    },
    {
      "cell_type": "code",
      "metadata": {
        "id": "xBuXLj9fOiLr"
      },
      "source": [
        "# Applying MultinomialNB\n",
        "from sklearn.naive_bayes import MultinomialNB\n",
        "classifier = MultinomialNB().fit(X_train, y_train)\n",
        "\n",
        "#Mapping predicted labels to sentiment labels\n",
        "# sentiments=[\"Negative\" if label==0 else \"Positive\" for label in y_pred]"
      ],
      "execution_count": 7,
      "outputs": []
    },
    {
      "cell_type": "markdown",
      "source": [
        "# Making Predictions and creating confusion matrix"
      ],
      "metadata": {
        "id": "9MZyMkXDh0rk"
      }
    },
    {
      "cell_type": "code",
      "metadata": {
        "id": "ZNYiLBT_Pmtg",
        "colab": {
          "base_uri": "https://localhost:8080/"
        },
        "outputId": "177ea1d9-ccb7-40ee-c495-808e85159448"
      },
      "source": [
        "# dataset['predicted_label'] = y_pred.tolist()\n",
        "# dataset['predicted_label'] =sentiments\n",
        "# dataset.head()\n",
        "y_pred = classifier.predict(X_test)\n",
        "\n",
        "# Creating Confusion Matrix\n",
        "from sklearn.metrics import confusion_matrix\n",
        "confusion_m = confusion_matrix(y_test, y_pred)\n",
        "print(confusion_m)"
      ],
      "execution_count": 8,
      "outputs": [
        {
          "output_type": "stream",
          "name": "stdout",
          "text": [
            "[[ 457  127]\n",
            " [ 102 1814]]\n"
          ]
        }
      ]
    },
    {
      "cell_type": "markdown",
      "source": [
        "#Getting the Accuracy"
      ],
      "metadata": {
        "id": "JVzZMduriIMr"
      }
    },
    {
      "cell_type": "code",
      "metadata": {
        "id": "mk32hmDzPuoD",
        "colab": {
          "base_uri": "https://localhost:8080/"
        },
        "outputId": "8f871c04-7743-4b80-e6ef-27c0ab3bbd92"
      },
      "source": [
        "from sklearn.metrics import accuracy_score\n",
        "accuracy = accuracy_score(y_test, y_pred)\n",
        "print(accuracy)"
      ],
      "execution_count": 9,
      "outputs": [
        {
          "output_type": "stream",
          "name": "stdout",
          "text": [
            "0.9084\n"
          ]
        }
      ]
    },
    {
      "cell_type": "markdown",
      "source": [
        "# Dumping Models"
      ],
      "metadata": {
        "id": "82cA7alNiOM6"
      }
    },
    {
      "cell_type": "code",
      "source": [
        "import pickle\n",
        "pickle.dump(classifier,open('model.pkl','wb'))\n",
        "pickle.dump(cv,open('cv-model.pkl','wb'))\n",
        "\n",
        "# Create a DataFrame with cleaned reviews and their corresponding sentiments\n",
        "final_df = pd.DataFrame({'Review': df['Review'], 'Sentiment': y})\n",
        "\n",
        "# Display the first few rows of the new DataFrame\n",
        "print(final_df.head())"
      ],
      "metadata": {
        "id": "P8J6s0zRiMG2",
        "colab": {
          "base_uri": "https://localhost:8080/"
        },
        "outputId": "84c41f12-c82e-433c-faa5-f2dc1b4766f2"
      },
      "execution_count": 14,
      "outputs": [
        {
          "output_type": "stream",
          "name": "stdout",
          "text": [
            "                                              Review Sentiment\n",
            "0  The ambience was good, food was quite good . h...  Positive\n",
            "1  Ambience is too good for a pleasant evening. S...  Positive\n",
            "2  A must try.. great food great ambience. Thnx f...  Positive\n",
            "3  Soumen das and Arun was a great guy. Only beca...  Positive\n",
            "4  Food is good.we ordered Kodi drumsticks and ba...  Positive\n"
          ]
        }
      ]
    }
  ]
}
